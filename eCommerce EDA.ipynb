{
 "cells": [
  {
   "cell_type": "code",
   "execution_count": 1,
   "metadata": {},
   "outputs": [
    {
     "name": "stdout",
     "output_type": "stream",
     "text": [
      "sukses\n"
     ]
    }
   ],
   "source": [
    "import pandas as pd\n",
    "import numpy as np\n",
    "import matplotlib.pyplot as plt\n",
    "import seaborn as sns\n",
    "%matplotlib inline\n",
    "print('sukses')"
   ]
  },
  {
   "cell_type": "code",
   "execution_count": 2,
   "metadata": {},
   "outputs": [
    {
     "data": {
      "text/html": [
       "<div>\n",
       "<style scoped>\n",
       "    .dataframe tbody tr th:only-of-type {\n",
       "        vertical-align: middle;\n",
       "    }\n",
       "\n",
       "    .dataframe tbody tr th {\n",
       "        vertical-align: top;\n",
       "    }\n",
       "\n",
       "    .dataframe thead th {\n",
       "        text-align: right;\n",
       "    }\n",
       "</style>\n",
       "<table border=\"1\" class=\"dataframe\">\n",
       "  <thead>\n",
       "    <tr style=\"text-align: right;\">\n",
       "      <th></th>\n",
       "      <th>category</th>\n",
       "      <th>product</th>\n",
       "      <th>Original_price</th>\n",
       "      <th>price</th>\n",
       "      <th>perc_of_unit_sold</th>\n",
       "      <th>rating</th>\n",
       "      <th>shpping_rate</th>\n",
       "      <th>gender</th>\n",
       "    </tr>\n",
       "  </thead>\n",
       "  <tbody>\n",
       "    <tr>\n",
       "      <th>0</th>\n",
       "      <td>Athletic Shoes</td>\n",
       "      <td>Nike SB Check Solar Cnvs Skateboarding Shoes f...</td>\n",
       "      <td>299.0</td>\n",
       "      <td>211.48</td>\n",
       "      <td>94.0</td>\n",
       "      <td>100.0</td>\n",
       "      <td>FREE Shipping</td>\n",
       "      <td>men</td>\n",
       "    </tr>\n",
       "    <tr>\n",
       "      <th>1</th>\n",
       "      <td>Athletic Shoes</td>\n",
       "      <td>Nike Md Runner 2 Two-Tone Textile-Mesh Suede-A...</td>\n",
       "      <td>349.0</td>\n",
       "      <td>289.99</td>\n",
       "      <td>80.0</td>\n",
       "      <td>88.0</td>\n",
       "      <td>FREE Shipping</td>\n",
       "      <td>men</td>\n",
       "    </tr>\n",
       "    <tr>\n",
       "      <th>2</th>\n",
       "      <td>Athletic Shoes</td>\n",
       "      <td>Nike air Heights Sneaker for Women , Size 38 E...</td>\n",
       "      <td>419.0</td>\n",
       "      <td>337.48</td>\n",
       "      <td>77.0</td>\n",
       "      <td>NaN</td>\n",
       "      <td>FREE Shipping</td>\n",
       "      <td>women</td>\n",
       "    </tr>\n",
       "    <tr>\n",
       "      <th>3</th>\n",
       "      <td>Athletic Shoes</td>\n",
       "      <td>Nike Fitness Shoes For Men , 43 EU , Black</td>\n",
       "      <td>319.0</td>\n",
       "      <td>211.48</td>\n",
       "      <td>76.0</td>\n",
       "      <td>80.0</td>\n",
       "      <td>FREE Shipping</td>\n",
       "      <td>men</td>\n",
       "    </tr>\n",
       "    <tr>\n",
       "      <th>4</th>\n",
       "      <td>Athletic Shoes</td>\n",
       "      <td>adidas ASWEERUN Sneaker for Mens, Grey - Size ...</td>\n",
       "      <td>259.0</td>\n",
       "      <td>194.99</td>\n",
       "      <td>94.0</td>\n",
       "      <td>NaN</td>\n",
       "      <td>Eligible for FREE Shipping</td>\n",
       "      <td>men</td>\n",
       "    </tr>\n",
       "  </tbody>\n",
       "</table>\n",
       "</div>"
      ],
      "text/plain": [
       "         category                                            product  \\\n",
       "0  Athletic Shoes  Nike SB Check Solar Cnvs Skateboarding Shoes f...   \n",
       "1  Athletic Shoes  Nike Md Runner 2 Two-Tone Textile-Mesh Suede-A...   \n",
       "2  Athletic Shoes  Nike air Heights Sneaker for Women , Size 38 E...   \n",
       "3  Athletic Shoes         Nike Fitness Shoes For Men , 43 EU , Black   \n",
       "4  Athletic Shoes  adidas ASWEERUN Sneaker for Mens, Grey - Size ...   \n",
       "\n",
       "   Original_price   price  perc_of_unit_sold  rating  \\\n",
       "0           299.0  211.48               94.0   100.0   \n",
       "1           349.0  289.99               80.0    88.0   \n",
       "2           419.0  337.48               77.0     NaN   \n",
       "3           319.0  211.48               76.0    80.0   \n",
       "4           259.0  194.99               94.0     NaN   \n",
       "\n",
       "                 shpping_rate gender  \n",
       "0               FREE Shipping    men  \n",
       "1               FREE Shipping    men  \n",
       "2               FREE Shipping  women  \n",
       "3               FREE Shipping    men  \n",
       "4  Eligible for FREE Shipping    men  "
      ]
     },
     "execution_count": 2,
     "metadata": {},
     "output_type": "execute_result"
    }
   ],
   "source": [
    "df = pd.read_csv('ecommerce.csv', index_col=0)\n",
    "df.head()"
   ]
  },
  {
   "cell_type": "markdown",
   "metadata": {},
   "source": [
    "## Problem Background and Goals\n",
    "Seiring berkembangnya teknologi, cara berbisnis pun mengalami perubahan dari bertransaksi secara konvensional, kini masyarakat lebih suka belanja secara online. Kepala Badan Pusat Statistik (BPS) Suhariyanto juga ikut mengakui bahwa fenomena belanja online sedang terjadi di Indonesia, dan salah satu faktornya adalah pertumbuhan e-commerce yang juga semakin pesat. Alasan-alasan mengapa orang beralih ke belanja online adalah hemat waktu dan tenaga, cukup dari rumah, kapanpun kita bisa berbelanja. Tersedianya banyak promo di marketplace juga semakin menarik minat untuk berbelanja. Pilihan metode pembayaran yang beragam. Variasi barang lebih lengkap. Terakhir adalah dapat membandingkan harga barang dengan mudah. https://www.cermati.com/artikel/5-alasan-kenapa-banyak-orang-beralih-ke-belanja-online\n",
    "\n",
    "Namun seringkali orang yang mau mulai berbisnis online tidak tahu barang apa yang mau ia jual. Berapa harga barang yang ingin dijual, jika dijual dengan harga segini apakah kemurahan atau kemahalan? Berapa harga yang tepat supaya barang laku dan seller untung bukan malah buntung? Itu adalah beberapa problem yang sering menghantui seller pemula (termasuk saya sendiri). Maka dari itu saya ingin melakukan analisis untuk mengetahui barang apa yang tepat untuk dijual dan berapa harga yang tepat untuk suatu barang."
   ]
  },
  {
   "cell_type": "markdown",
   "metadata": {},
   "source": [
    "## Define Problem\n",
    "\n",
    "1. Kategori barang apa yang laku dijual di e-commerce? Berdasarkan avg persentase barang terjual\n",
    "2. Setelah tau apa yang laku dijual, next nya adalah berapa harga yang tepat untuk barang tersebut?"
   ]
  },
  {
   "cell_type": "markdown",
   "metadata": {},
   "source": [
    "## Define Goals\n",
    "\n",
    "1. Mengetahui kategori barang yang laku dijual di e-commerce, berdasarkan avg persentase barang terjual\n",
    "2. Menganalisa harga barang untuk mengetahui harga yang tepat untuk menjual barang"
   ]
  },
  {
   "cell_type": "markdown",
   "metadata": {},
   "source": [
    "## Cek Tipe Data\n",
    "\n",
    "Cek tipe data bertujuan untuk memastikan tipe data pada tiap kolom sudah tepat, semisal kolom kategorikal seharusnya bertipe object, kolom numerikal bertipe float/int, kolom tanggal bertipe date/time"
   ]
  },
  {
   "cell_type": "code",
   "execution_count": 3,
   "metadata": {},
   "outputs": [
    {
     "data": {
      "text/plain": [
       "category              object\n",
       "product               object\n",
       "Original_price       float64\n",
       "price                float64\n",
       "perc_of_unit_sold    float64\n",
       "rating               float64\n",
       "shpping_rate          object\n",
       "gender                object\n",
       "dtype: object"
      ]
     },
     "execution_count": 3,
     "metadata": {},
     "output_type": "execute_result"
    }
   ],
   "source": [
    "df.dtypes"
   ]
  },
  {
   "cell_type": "markdown",
   "metadata": {},
   "source": [
    "- Tipe kolomnya sudah tepat semua, tidak ada masalah"
   ]
  },
  {
   "cell_type": "markdown",
   "metadata": {},
   "source": [
    "## Describe Data\n",
    "\n",
    "Describe data bertujuan untuk melihat pola deskriptif data secara lebih detail"
   ]
  },
  {
   "cell_type": "code",
   "execution_count": 4,
   "metadata": {},
   "outputs": [
    {
     "data": {
      "text/html": [
       "<div>\n",
       "<style scoped>\n",
       "    .dataframe tbody tr th:only-of-type {\n",
       "        vertical-align: middle;\n",
       "    }\n",
       "\n",
       "    .dataframe tbody tr th {\n",
       "        vertical-align: top;\n",
       "    }\n",
       "\n",
       "    .dataframe thead th {\n",
       "        text-align: right;\n",
       "    }\n",
       "</style>\n",
       "<table border=\"1\" class=\"dataframe\">\n",
       "  <thead>\n",
       "    <tr style=\"text-align: right;\">\n",
       "      <th></th>\n",
       "      <th>count</th>\n",
       "      <th>mean</th>\n",
       "      <th>std</th>\n",
       "      <th>min</th>\n",
       "      <th>25%</th>\n",
       "      <th>50%</th>\n",
       "      <th>75%</th>\n",
       "      <th>max</th>\n",
       "    </tr>\n",
       "  </thead>\n",
       "  <tbody>\n",
       "    <tr>\n",
       "      <th>Original_price</th>\n",
       "      <td>583.0</td>\n",
       "      <td>864.498113</td>\n",
       "      <td>1803.365527</td>\n",
       "      <td>42.0</td>\n",
       "      <td>273.00</td>\n",
       "      <td>499.00</td>\n",
       "      <td>980.00</td>\n",
       "      <td>29970.0</td>\n",
       "    </tr>\n",
       "    <tr>\n",
       "      <th>price</th>\n",
       "      <td>609.0</td>\n",
       "      <td>339.434039</td>\n",
       "      <td>285.416406</td>\n",
       "      <td>21.4</td>\n",
       "      <td>140.98</td>\n",
       "      <td>262.49</td>\n",
       "      <td>444.99</td>\n",
       "      <td>3220.0</td>\n",
       "    </tr>\n",
       "    <tr>\n",
       "      <th>perc_of_unit_sold</th>\n",
       "      <td>522.0</td>\n",
       "      <td>57.678161</td>\n",
       "      <td>25.434947</td>\n",
       "      <td>2.0</td>\n",
       "      <td>36.25</td>\n",
       "      <td>60.00</td>\n",
       "      <td>79.00</td>\n",
       "      <td>99.0</td>\n",
       "    </tr>\n",
       "    <tr>\n",
       "      <th>rating</th>\n",
       "      <td>427.0</td>\n",
       "      <td>87.807963</td>\n",
       "      <td>11.422350</td>\n",
       "      <td>20.0</td>\n",
       "      <td>82.00</td>\n",
       "      <td>88.00</td>\n",
       "      <td>96.00</td>\n",
       "      <td>100.0</td>\n",
       "    </tr>\n",
       "  </tbody>\n",
       "</table>\n",
       "</div>"
      ],
      "text/plain": [
       "                   count        mean          std   min     25%     50%  \\\n",
       "Original_price     583.0  864.498113  1803.365527  42.0  273.00  499.00   \n",
       "price              609.0  339.434039   285.416406  21.4  140.98  262.49   \n",
       "perc_of_unit_sold  522.0   57.678161    25.434947   2.0   36.25   60.00   \n",
       "rating             427.0   87.807963    11.422350  20.0   82.00   88.00   \n",
       "\n",
       "                      75%      max  \n",
       "Original_price     980.00  29970.0  \n",
       "price              444.99   3220.0  \n",
       "perc_of_unit_sold   79.00     99.0  \n",
       "rating              96.00    100.0  "
      ]
     },
     "execution_count": 4,
     "metadata": {},
     "output_type": "execute_result"
    }
   ],
   "source": [
    "df.describe().T"
   ]
  },
  {
   "cell_type": "code",
   "execution_count": 5,
   "metadata": {},
   "outputs": [
    {
     "data": {
      "text/html": [
       "<div>\n",
       "<style scoped>\n",
       "    .dataframe tbody tr th:only-of-type {\n",
       "        vertical-align: middle;\n",
       "    }\n",
       "\n",
       "    .dataframe tbody tr th {\n",
       "        vertical-align: top;\n",
       "    }\n",
       "\n",
       "    .dataframe thead th {\n",
       "        text-align: right;\n",
       "    }\n",
       "</style>\n",
       "<table border=\"1\" class=\"dataframe\">\n",
       "  <thead>\n",
       "    <tr style=\"text-align: right;\">\n",
       "      <th></th>\n",
       "      <th>count</th>\n",
       "      <th>unique</th>\n",
       "      <th>top</th>\n",
       "      <th>freq</th>\n",
       "    </tr>\n",
       "  </thead>\n",
       "  <tbody>\n",
       "    <tr>\n",
       "      <th>category</th>\n",
       "      <td>609</td>\n",
       "      <td>7</td>\n",
       "      <td>Watches</td>\n",
       "      <td>180</td>\n",
       "    </tr>\n",
       "    <tr>\n",
       "      <th>product</th>\n",
       "      <td>609</td>\n",
       "      <td>602</td>\n",
       "      <td>Lacoste Casual Shoe for Men Size 44 EU - White</td>\n",
       "      <td>3</td>\n",
       "    </tr>\n",
       "    <tr>\n",
       "      <th>shpping_rate</th>\n",
       "      <td>567</td>\n",
       "      <td>2</td>\n",
       "      <td>FREE Shipping</td>\n",
       "      <td>356</td>\n",
       "    </tr>\n",
       "    <tr>\n",
       "      <th>gender</th>\n",
       "      <td>581</td>\n",
       "      <td>3</td>\n",
       "      <td>men</td>\n",
       "      <td>338</td>\n",
       "    </tr>\n",
       "  </tbody>\n",
       "</table>\n",
       "</div>"
      ],
      "text/plain": [
       "             count unique                                             top freq\n",
       "category       609      7                                         Watches  180\n",
       "product        609    602  Lacoste Casual Shoe for Men Size 44 EU - White    3\n",
       "shpping_rate   567      2                                   FREE Shipping  356\n",
       "gender         581      3                                             men  338"
      ]
     },
     "execution_count": 5,
     "metadata": {},
     "output_type": "execute_result"
    }
   ],
   "source": [
    "df.describe(include='object').T"
   ]
  },
  {
   "cell_type": "markdown",
   "metadata": {},
   "source": [
    "## Cek Missing Value"
   ]
  },
  {
   "cell_type": "code",
   "execution_count": 6,
   "metadata": {},
   "outputs": [
    {
     "data": {
      "text/plain": [
       "category               0\n",
       "product                0\n",
       "Original_price        26\n",
       "price                  0\n",
       "perc_of_unit_sold     87\n",
       "rating               182\n",
       "shpping_rate          42\n",
       "gender                28\n",
       "dtype: int64"
      ]
     },
     "execution_count": 6,
     "metadata": {},
     "output_type": "execute_result"
    }
   ],
   "source": [
    "df.isna().sum()"
   ]
  },
  {
   "cell_type": "code",
   "execution_count": 7,
   "metadata": {},
   "outputs": [
    {
     "data": {
      "text/plain": [
       "category              0.00\n",
       "product               0.00\n",
       "Original_price        4.27\n",
       "price                 0.00\n",
       "perc_of_unit_sold    14.29\n",
       "rating               29.89\n",
       "shpping_rate          6.90\n",
       "gender                4.60\n",
       "dtype: float64"
      ]
     },
     "execution_count": 7,
     "metadata": {},
     "output_type": "execute_result"
    }
   ],
   "source": [
    "round((((df.isnull().sum()) / (len(df))) * 100), 2)"
   ]
  },
  {
   "cell_type": "markdown",
   "metadata": {},
   "source": [
    "- Jika dilihat dari persentase, tidak ada kolom dgn missing value yg mencapai 50% atau lebih. Semuanya masih dibawah 50% bahkan 30%, untuk selanjutnya akan ditelaah lagi untuk handling nya"
   ]
  },
  {
   "cell_type": "markdown",
   "metadata": {},
   "source": [
    "## Handling Missing Value"
   ]
  },
  {
   "cell_type": "code",
   "execution_count": 8,
   "metadata": {},
   "outputs": [
    {
     "data": {
      "text/plain": [
       "count      583.000000\n",
       "mean       864.498113\n",
       "std       1803.365527\n",
       "min         42.000000\n",
       "25%        273.000000\n",
       "50%        499.000000\n",
       "75%        980.000000\n",
       "max      29970.000000\n",
       "Name: Original_price, dtype: float64"
      ]
     },
     "execution_count": 8,
     "metadata": {},
     "output_type": "execute_result"
    }
   ],
   "source": [
    "df['Original_price'].describe()"
   ]
  },
  {
   "cell_type": "code",
   "execution_count": 9,
   "metadata": {},
   "outputs": [
    {
     "data": {
      "text/html": [
       "<div>\n",
       "<style scoped>\n",
       "    .dataframe tbody tr th:only-of-type {\n",
       "        vertical-align: middle;\n",
       "    }\n",
       "\n",
       "    .dataframe tbody tr th {\n",
       "        vertical-align: top;\n",
       "    }\n",
       "\n",
       "    .dataframe thead th {\n",
       "        text-align: right;\n",
       "    }\n",
       "</style>\n",
       "<table border=\"1\" class=\"dataframe\">\n",
       "  <thead>\n",
       "    <tr style=\"text-align: right;\">\n",
       "      <th></th>\n",
       "      <th>category</th>\n",
       "      <th>product</th>\n",
       "      <th>Original_price</th>\n",
       "      <th>price</th>\n",
       "      <th>perc_of_unit_sold</th>\n",
       "      <th>rating</th>\n",
       "      <th>shpping_rate</th>\n",
       "      <th>gender</th>\n",
       "    </tr>\n",
       "  </thead>\n",
       "  <tbody>\n",
       "    <tr>\n",
       "      <th>140</th>\n",
       "      <td>Eyewear</td>\n",
       "      <td>Bottega Veneta Sunglasses For Unisex, Bv0013S-...</td>\n",
       "      <td>2094.0</td>\n",
       "      <td>1175.99</td>\n",
       "      <td>14.0</td>\n",
       "      <td>NaN</td>\n",
       "      <td>FREE Shipping</td>\n",
       "      <td>Unisex</td>\n",
       "    </tr>\n",
       "    <tr>\n",
       "      <th>2</th>\n",
       "      <td>Watches</td>\n",
       "      <td>JBW Mondrian Women's 16 Diamonds Rose Gold Dia...</td>\n",
       "      <td>2990.0</td>\n",
       "      <td>564.98</td>\n",
       "      <td>94.0</td>\n",
       "      <td>88.0</td>\n",
       "      <td>FREE Shipping</td>\n",
       "      <td>women</td>\n",
       "    </tr>\n",
       "    <tr>\n",
       "      <th>6</th>\n",
       "      <td>Watches</td>\n",
       "      <td>JBW 562 Men's 12 Diamonds Gold Dial Gold-Plate...</td>\n",
       "      <td>2749.0</td>\n",
       "      <td>1230.00</td>\n",
       "      <td>NaN</td>\n",
       "      <td>76.0</td>\n",
       "      <td>NaN</td>\n",
       "      <td>men</td>\n",
       "    </tr>\n",
       "    <tr>\n",
       "      <th>21</th>\n",
       "      <td>Watches</td>\n",
       "      <td>Burberry Watch For Men,Stainless Steel Band, Q...</td>\n",
       "      <td>2865.0</td>\n",
       "      <td>1196.49</td>\n",
       "      <td>91.0</td>\n",
       "      <td>90.0</td>\n",
       "      <td>FREE Shipping</td>\n",
       "      <td>men</td>\n",
       "    </tr>\n",
       "    <tr>\n",
       "      <th>26</th>\n",
       "      <td>Watches</td>\n",
       "      <td>Akribos XXIV Men's Silver Dial Stainless Steel...</td>\n",
       "      <td>2610.0</td>\n",
       "      <td>209.49</td>\n",
       "      <td>81.0</td>\n",
       "      <td>100.0</td>\n",
       "      <td>FREE Shipping</td>\n",
       "      <td>men</td>\n",
       "    </tr>\n",
       "  </tbody>\n",
       "</table>\n",
       "</div>"
      ],
      "text/plain": [
       "    category                                            product  \\\n",
       "140  Eyewear  Bottega Veneta Sunglasses For Unisex, Bv0013S-...   \n",
       "2    Watches  JBW Mondrian Women's 16 Diamonds Rose Gold Dia...   \n",
       "6    Watches  JBW 562 Men's 12 Diamonds Gold Dial Gold-Plate...   \n",
       "21   Watches  Burberry Watch For Men,Stainless Steel Band, Q...   \n",
       "26   Watches  Akribos XXIV Men's Silver Dial Stainless Steel...   \n",
       "\n",
       "     Original_price    price  perc_of_unit_sold  rating   shpping_rate  gender  \n",
       "140          2094.0  1175.99               14.0     NaN  FREE Shipping  Unisex  \n",
       "2            2990.0   564.98               94.0    88.0  FREE Shipping   women  \n",
       "6            2749.0  1230.00                NaN    76.0            NaN     men  \n",
       "21           2865.0  1196.49               91.0    90.0  FREE Shipping     men  \n",
       "26           2610.0   209.49               81.0   100.0  FREE Shipping     men  "
      ]
     },
     "execution_count": 9,
     "metadata": {},
     "output_type": "execute_result"
    }
   ],
   "source": [
    "# Cek Outliers di Original_price\n",
    "\n",
    "IQR = 980 - 273\n",
    "lower_fence = 273 - (1.5 * IQR)\n",
    "upper_fence = 980 + (1.5 * IQR)\n",
    "df[(df['Original_price'] < lower_fence) | (df['Original_price'] > upper_fence)].head()"
   ]
  },
  {
   "cell_type": "markdown",
   "metadata": {},
   "source": [
    "- Karena di kolom Original_price terdapat beberapa outliers maka missing value akan di fill dengan median"
   ]
  },
  {
   "cell_type": "code",
   "execution_count": 10,
   "metadata": {},
   "outputs": [],
   "source": [
    "df['Original_price'].fillna(df['Original_price'].median(), inplace=True)"
   ]
  },
  {
   "cell_type": "code",
   "execution_count": 11,
   "metadata": {},
   "outputs": [
    {
     "data": {
      "text/plain": [
       "count    522.000000\n",
       "mean      57.678161\n",
       "std       25.434947\n",
       "min        2.000000\n",
       "25%       36.250000\n",
       "50%       60.000000\n",
       "75%       79.000000\n",
       "max       99.000000\n",
       "Name: perc_of_unit_sold, dtype: float64"
      ]
     },
     "execution_count": 11,
     "metadata": {},
     "output_type": "execute_result"
    }
   ],
   "source": [
    "df['perc_of_unit_sold'].describe()"
   ]
  },
  {
   "cell_type": "code",
   "execution_count": 12,
   "metadata": {},
   "outputs": [
    {
     "data": {
      "text/html": [
       "<div>\n",
       "<style scoped>\n",
       "    .dataframe tbody tr th:only-of-type {\n",
       "        vertical-align: middle;\n",
       "    }\n",
       "\n",
       "    .dataframe tbody tr th {\n",
       "        vertical-align: top;\n",
       "    }\n",
       "\n",
       "    .dataframe thead th {\n",
       "        text-align: right;\n",
       "    }\n",
       "</style>\n",
       "<table border=\"1\" class=\"dataframe\">\n",
       "  <thead>\n",
       "    <tr style=\"text-align: right;\">\n",
       "      <th></th>\n",
       "      <th>category</th>\n",
       "      <th>product</th>\n",
       "      <th>Original_price</th>\n",
       "      <th>price</th>\n",
       "      <th>perc_of_unit_sold</th>\n",
       "      <th>rating</th>\n",
       "      <th>shpping_rate</th>\n",
       "      <th>gender</th>\n",
       "    </tr>\n",
       "  </thead>\n",
       "  <tbody>\n",
       "  </tbody>\n",
       "</table>\n",
       "</div>"
      ],
      "text/plain": [
       "Empty DataFrame\n",
       "Columns: [category, product, Original_price, price, perc_of_unit_sold, rating, shpping_rate, gender]\n",
       "Index: []"
      ]
     },
     "execution_count": 12,
     "metadata": {},
     "output_type": "execute_result"
    }
   ],
   "source": [
    "## Cek outliers di perc_of_unit_sold\n",
    "\n",
    "IQR = 79 - 36.25\n",
    "lower_fence = 36.25 - (1.5 * IQR)\n",
    "upper_fence = 79 + (1.5 * IQR)\n",
    "df[(df['perc_of_unit_sold'] < lower_fence) | (df['perc_of_unit_sold'] > upper_fence)].head()"
   ]
  },
  {
   "cell_type": "markdown",
   "metadata": {},
   "source": [
    "- di kolom perc_of_unit_sold tidak ada outliers. Maka missing value akan diisi dengan mean"
   ]
  },
  {
   "cell_type": "code",
   "execution_count": 13,
   "metadata": {},
   "outputs": [],
   "source": [
    "df['perc_of_unit_sold'].fillna(df['perc_of_unit_sold'].mean(), inplace=True)"
   ]
  },
  {
   "cell_type": "code",
   "execution_count": 14,
   "metadata": {},
   "outputs": [
    {
     "data": {
      "text/plain": [
       "count    427.000000\n",
       "mean      87.807963\n",
       "std       11.422350\n",
       "min       20.000000\n",
       "25%       82.000000\n",
       "50%       88.000000\n",
       "75%       96.000000\n",
       "max      100.000000\n",
       "Name: rating, dtype: float64"
      ]
     },
     "execution_count": 14,
     "metadata": {},
     "output_type": "execute_result"
    }
   ],
   "source": [
    "df['rating'].describe()"
   ]
  },
  {
   "cell_type": "code",
   "execution_count": 15,
   "metadata": {},
   "outputs": [
    {
     "data": {
      "text/html": [
       "<div>\n",
       "<style scoped>\n",
       "    .dataframe tbody tr th:only-of-type {\n",
       "        vertical-align: middle;\n",
       "    }\n",
       "\n",
       "    .dataframe tbody tr th {\n",
       "        vertical-align: top;\n",
       "    }\n",
       "\n",
       "    .dataframe thead th {\n",
       "        text-align: right;\n",
       "    }\n",
       "</style>\n",
       "<table border=\"1\" class=\"dataframe\">\n",
       "  <thead>\n",
       "    <tr style=\"text-align: right;\">\n",
       "      <th></th>\n",
       "      <th>category</th>\n",
       "      <th>product</th>\n",
       "      <th>Original_price</th>\n",
       "      <th>price</th>\n",
       "      <th>perc_of_unit_sold</th>\n",
       "      <th>rating</th>\n",
       "      <th>shpping_rate</th>\n",
       "      <th>gender</th>\n",
       "    </tr>\n",
       "  </thead>\n",
       "  <tbody>\n",
       "    <tr>\n",
       "      <th>17</th>\n",
       "      <td>Eyewear</td>\n",
       "      <td>Polaroid Sunglasses , for Women , Mixed , Avia...</td>\n",
       "      <td>201.0</td>\n",
       "      <td>129.49</td>\n",
       "      <td>22.000000</td>\n",
       "      <td>60.0</td>\n",
       "      <td>Eligible for FREE Shipping</td>\n",
       "      <td>women</td>\n",
       "    </tr>\n",
       "    <tr>\n",
       "      <th>63</th>\n",
       "      <td>Eyewear</td>\n",
       "      <td>Lacoste Men's Sunglasses Rectangular Petit Piq...</td>\n",
       "      <td>793.0</td>\n",
       "      <td>442.48</td>\n",
       "      <td>50.000000</td>\n",
       "      <td>20.0</td>\n",
       "      <td>FREE Shipping</td>\n",
       "      <td>men</td>\n",
       "    </tr>\n",
       "    <tr>\n",
       "      <th>69</th>\n",
       "      <td>Eyewear</td>\n",
       "      <td>Emporio Armani Square Sunglasses For Men - Blu...</td>\n",
       "      <td>780.0</td>\n",
       "      <td>359.49</td>\n",
       "      <td>57.678161</td>\n",
       "      <td>60.0</td>\n",
       "      <td>FREE Shipping</td>\n",
       "      <td>men</td>\n",
       "    </tr>\n",
       "    <tr>\n",
       "      <th>71</th>\n",
       "      <td>Eyewear</td>\n",
       "      <td>Polaroid Sunglasses For Men Pld 1016/Sdl550Lb,...</td>\n",
       "      <td>200.0</td>\n",
       "      <td>134.99</td>\n",
       "      <td>51.000000</td>\n",
       "      <td>60.0</td>\n",
       "      <td>Eligible for FREE Shipping</td>\n",
       "      <td>men</td>\n",
       "    </tr>\n",
       "    <tr>\n",
       "      <th>91</th>\n",
       "      <td>Eyewear</td>\n",
       "      <td>Polaroid Sunglasses For Unisex Pld 2061/S00350...</td>\n",
       "      <td>250.0</td>\n",
       "      <td>179.49</td>\n",
       "      <td>52.000000</td>\n",
       "      <td>56.0</td>\n",
       "      <td>Eligible for FREE Shipping</td>\n",
       "      <td>Unisex</td>\n",
       "    </tr>\n",
       "  </tbody>\n",
       "</table>\n",
       "</div>"
      ],
      "text/plain": [
       "   category                                            product  \\\n",
       "17  Eyewear  Polaroid Sunglasses , for Women , Mixed , Avia...   \n",
       "63  Eyewear  Lacoste Men's Sunglasses Rectangular Petit Piq...   \n",
       "69  Eyewear  Emporio Armani Square Sunglasses For Men - Blu...   \n",
       "71  Eyewear  Polaroid Sunglasses For Men Pld 1016/Sdl550Lb,...   \n",
       "91  Eyewear  Polaroid Sunglasses For Unisex Pld 2061/S00350...   \n",
       "\n",
       "    Original_price   price  perc_of_unit_sold  rating  \\\n",
       "17           201.0  129.49          22.000000    60.0   \n",
       "63           793.0  442.48          50.000000    20.0   \n",
       "69           780.0  359.49          57.678161    60.0   \n",
       "71           200.0  134.99          51.000000    60.0   \n",
       "91           250.0  179.49          52.000000    56.0   \n",
       "\n",
       "                  shpping_rate  gender  \n",
       "17  Eligible for FREE Shipping   women  \n",
       "63               FREE Shipping     men  \n",
       "69               FREE Shipping     men  \n",
       "71  Eligible for FREE Shipping     men  \n",
       "91  Eligible for FREE Shipping  Unisex  "
      ]
     },
     "execution_count": 15,
     "metadata": {},
     "output_type": "execute_result"
    }
   ],
   "source": [
    "## Cek outliers di rating\n",
    "\n",
    "IQR = 96 - 82\n",
    "lower_fence = 82 - (1.5 * IQR)\n",
    "upper_fence = 96 + (1.5 * IQR)\n",
    "df[(df['rating'] < lower_fence) | (df['rating'] > upper_fence)].head()"
   ]
  },
  {
   "cell_type": "markdown",
   "metadata": {},
   "source": [
    "- Karena di kolom rating terdapat beberapa outliers maka missing value akan di fill dengan median"
   ]
  },
  {
   "cell_type": "code",
   "execution_count": 16,
   "metadata": {},
   "outputs": [],
   "source": [
    "df['rating'].fillna(df['rating'].median(), inplace=True)"
   ]
  },
  {
   "cell_type": "code",
   "execution_count": 17,
   "metadata": {
    "scrolled": true
   },
   "outputs": [
    {
     "data": {
      "text/plain": [
       "count               567\n",
       "unique                2\n",
       "top       FREE Shipping\n",
       "freq                356\n",
       "Name: shpping_rate, dtype: object"
      ]
     },
     "execution_count": 17,
     "metadata": {},
     "output_type": "execute_result"
    }
   ],
   "source": [
    "df.shpping_rate.describe()"
   ]
  },
  {
   "cell_type": "markdown",
   "metadata": {},
   "source": [
    "- Karena kolom 'shpping_rate' dirasa berguna untuk analisis maka tidak di drop tapi diisi dengan most frequent value"
   ]
  },
  {
   "cell_type": "code",
   "execution_count": 18,
   "metadata": {},
   "outputs": [],
   "source": [
    "df['shpping_rate'].fillna('FREE Shipping', inplace=True)"
   ]
  },
  {
   "cell_type": "code",
   "execution_count": 19,
   "metadata": {},
   "outputs": [
    {
     "data": {
      "text/plain": [
       "count     581\n",
       "unique      3\n",
       "top       men\n",
       "freq      338\n",
       "Name: gender, dtype: object"
      ]
     },
     "execution_count": 19,
     "metadata": {},
     "output_type": "execute_result"
    }
   ],
   "source": [
    "df.gender.describe()"
   ]
  },
  {
   "cell_type": "code",
   "execution_count": 20,
   "metadata": {},
   "outputs": [],
   "source": [
    "df['gender'].fillna('men', inplace=True)"
   ]
  },
  {
   "cell_type": "markdown",
   "metadata": {},
   "source": [
    "- Karena kolom 'gender' dirasa berguna untuk analisis maka tidak di drop tapi diisi dengan most frequent value"
   ]
  },
  {
   "cell_type": "code",
   "execution_count": 21,
   "metadata": {},
   "outputs": [
    {
     "data": {
      "text/plain": [
       "category             0\n",
       "product              0\n",
       "Original_price       0\n",
       "price                0\n",
       "perc_of_unit_sold    0\n",
       "rating               0\n",
       "shpping_rate         0\n",
       "gender               0\n",
       "dtype: int64"
      ]
     },
     "execution_count": 21,
     "metadata": {},
     "output_type": "execute_result"
    }
   ],
   "source": [
    "df.isna().sum()"
   ]
  },
  {
   "cell_type": "markdown",
   "metadata": {},
   "source": [
    "## Analisis"
   ]
  },
  {
   "cell_type": "markdown",
   "metadata": {},
   "source": [
    "### Buat kolom n_diskon dan %_diskon"
   ]
  },
  {
   "cell_type": "code",
   "execution_count": 22,
   "metadata": {},
   "outputs": [],
   "source": [
    "df['n_diskon'] = df['Original_price'] - df['price']  # get besaran diskon\n",
    "df['%_diskon'] = round((df['n_diskon'] / df['Original_price']) * 100)"
   ]
  },
  {
   "cell_type": "code",
   "execution_count": 23,
   "metadata": {},
   "outputs": [
    {
     "data": {
      "text/html": [
       "<div>\n",
       "<style scoped>\n",
       "    .dataframe tbody tr th:only-of-type {\n",
       "        vertical-align: middle;\n",
       "    }\n",
       "\n",
       "    .dataframe tbody tr th {\n",
       "        vertical-align: top;\n",
       "    }\n",
       "\n",
       "    .dataframe thead th {\n",
       "        text-align: right;\n",
       "    }\n",
       "</style>\n",
       "<table border=\"1\" class=\"dataframe\">\n",
       "  <thead>\n",
       "    <tr style=\"text-align: right;\">\n",
       "      <th></th>\n",
       "      <th>category</th>\n",
       "      <th>product</th>\n",
       "      <th>Original_price</th>\n",
       "      <th>price</th>\n",
       "      <th>perc_of_unit_sold</th>\n",
       "      <th>rating</th>\n",
       "      <th>shpping_rate</th>\n",
       "      <th>gender</th>\n",
       "      <th>n_diskon</th>\n",
       "      <th>%_diskon</th>\n",
       "    </tr>\n",
       "  </thead>\n",
       "  <tbody>\n",
       "    <tr>\n",
       "      <th>0</th>\n",
       "      <td>Athletic Shoes</td>\n",
       "      <td>Nike SB Check Solar Cnvs Skateboarding Shoes f...</td>\n",
       "      <td>299.0</td>\n",
       "      <td>211.48</td>\n",
       "      <td>94.0</td>\n",
       "      <td>100.0</td>\n",
       "      <td>FREE Shipping</td>\n",
       "      <td>men</td>\n",
       "      <td>87.52</td>\n",
       "      <td>29.0</td>\n",
       "    </tr>\n",
       "    <tr>\n",
       "      <th>1</th>\n",
       "      <td>Athletic Shoes</td>\n",
       "      <td>Nike Md Runner 2 Two-Tone Textile-Mesh Suede-A...</td>\n",
       "      <td>349.0</td>\n",
       "      <td>289.99</td>\n",
       "      <td>80.0</td>\n",
       "      <td>88.0</td>\n",
       "      <td>FREE Shipping</td>\n",
       "      <td>men</td>\n",
       "      <td>59.01</td>\n",
       "      <td>17.0</td>\n",
       "    </tr>\n",
       "    <tr>\n",
       "      <th>2</th>\n",
       "      <td>Athletic Shoes</td>\n",
       "      <td>Nike air Heights Sneaker for Women , Size 38 E...</td>\n",
       "      <td>419.0</td>\n",
       "      <td>337.48</td>\n",
       "      <td>77.0</td>\n",
       "      <td>88.0</td>\n",
       "      <td>FREE Shipping</td>\n",
       "      <td>women</td>\n",
       "      <td>81.52</td>\n",
       "      <td>19.0</td>\n",
       "    </tr>\n",
       "    <tr>\n",
       "      <th>3</th>\n",
       "      <td>Athletic Shoes</td>\n",
       "      <td>Nike Fitness Shoes For Men , 43 EU , Black</td>\n",
       "      <td>319.0</td>\n",
       "      <td>211.48</td>\n",
       "      <td>76.0</td>\n",
       "      <td>80.0</td>\n",
       "      <td>FREE Shipping</td>\n",
       "      <td>men</td>\n",
       "      <td>107.52</td>\n",
       "      <td>34.0</td>\n",
       "    </tr>\n",
       "    <tr>\n",
       "      <th>4</th>\n",
       "      <td>Athletic Shoes</td>\n",
       "      <td>adidas ASWEERUN Sneaker for Mens, Grey - Size ...</td>\n",
       "      <td>259.0</td>\n",
       "      <td>194.99</td>\n",
       "      <td>94.0</td>\n",
       "      <td>88.0</td>\n",
       "      <td>Eligible for FREE Shipping</td>\n",
       "      <td>men</td>\n",
       "      <td>64.01</td>\n",
       "      <td>25.0</td>\n",
       "    </tr>\n",
       "  </tbody>\n",
       "</table>\n",
       "</div>"
      ],
      "text/plain": [
       "         category                                            product  \\\n",
       "0  Athletic Shoes  Nike SB Check Solar Cnvs Skateboarding Shoes f...   \n",
       "1  Athletic Shoes  Nike Md Runner 2 Two-Tone Textile-Mesh Suede-A...   \n",
       "2  Athletic Shoes  Nike air Heights Sneaker for Women , Size 38 E...   \n",
       "3  Athletic Shoes         Nike Fitness Shoes For Men , 43 EU , Black   \n",
       "4  Athletic Shoes  adidas ASWEERUN Sneaker for Mens, Grey - Size ...   \n",
       "\n",
       "   Original_price   price  perc_of_unit_sold  rating  \\\n",
       "0           299.0  211.48               94.0   100.0   \n",
       "1           349.0  289.99               80.0    88.0   \n",
       "2           419.0  337.48               77.0    88.0   \n",
       "3           319.0  211.48               76.0    80.0   \n",
       "4           259.0  194.99               94.0    88.0   \n",
       "\n",
       "                 shpping_rate gender  n_diskon  %_diskon  \n",
       "0               FREE Shipping    men     87.52      29.0  \n",
       "1               FREE Shipping    men     59.01      17.0  \n",
       "2               FREE Shipping  women     81.52      19.0  \n",
       "3               FREE Shipping    men    107.52      34.0  \n",
       "4  Eligible for FREE Shipping    men     64.01      25.0  "
      ]
     },
     "execution_count": 23,
     "metadata": {},
     "output_type": "execute_result"
    }
   ],
   "source": [
    "df.head()"
   ]
  },
  {
   "cell_type": "markdown",
   "metadata": {},
   "source": [
    "### Kategori barang yang laku dijual di e-commerce, Berdasarkan avg persentase barang terjual"
   ]
  },
  {
   "cell_type": "code",
   "execution_count": 24,
   "metadata": {},
   "outputs": [
    {
     "data": {
      "text/html": [
       "<div>\n",
       "<style scoped>\n",
       "    .dataframe tbody tr th:only-of-type {\n",
       "        vertical-align: middle;\n",
       "    }\n",
       "\n",
       "    .dataframe tbody tr th {\n",
       "        vertical-align: top;\n",
       "    }\n",
       "\n",
       "    .dataframe thead th {\n",
       "        text-align: right;\n",
       "    }\n",
       "</style>\n",
       "<table border=\"1\" class=\"dataframe\">\n",
       "  <thead>\n",
       "    <tr style=\"text-align: right;\">\n",
       "      <th>col_0</th>\n",
       "      <th>avg % unit sold</th>\n",
       "    </tr>\n",
       "    <tr>\n",
       "      <th>category</th>\n",
       "      <th></th>\n",
       "    </tr>\n",
       "  </thead>\n",
       "  <tbody>\n",
       "    <tr>\n",
       "      <th>Perfumes &amp; Fragrances</th>\n",
       "      <td>73.793651</td>\n",
       "    </tr>\n",
       "    <tr>\n",
       "      <th>Athletic Shoes</th>\n",
       "      <td>62.313854</td>\n",
       "    </tr>\n",
       "    <tr>\n",
       "      <th>Watches</th>\n",
       "      <td>61.144572</td>\n",
       "    </tr>\n",
       "    <tr>\n",
       "      <th>Casual &amp; Dress Shoes</th>\n",
       "      <td>53.471020</td>\n",
       "    </tr>\n",
       "    <tr>\n",
       "      <th>Sportswear</th>\n",
       "      <td>52.133055</td>\n",
       "    </tr>\n",
       "    <tr>\n",
       "      <th>Eyewear</th>\n",
       "      <td>49.768025</td>\n",
       "    </tr>\n",
       "    <tr>\n",
       "      <th>Wallets</th>\n",
       "      <td>44.685306</td>\n",
       "    </tr>\n",
       "  </tbody>\n",
       "</table>\n",
       "</div>"
      ],
      "text/plain": [
       "col_0                  avg % unit sold\n",
       "category                              \n",
       "Perfumes & Fragrances        73.793651\n",
       "Athletic Shoes               62.313854\n",
       "Watches                      61.144572\n",
       "Casual & Dress Shoes         53.471020\n",
       "Sportswear                   52.133055\n",
       "Eyewear                      49.768025\n",
       "Wallets                      44.685306"
      ]
     },
     "execution_count": 24,
     "metadata": {},
     "output_type": "execute_result"
    }
   ],
   "source": [
    "pd.crosstab(index=df['category'], columns='avg % unit sold', values=df['perc_of_unit_sold'], aggfunc='mean').sort_values('avg % unit sold', ascending=False)"
   ]
  },
  {
   "cell_type": "markdown",
   "metadata": {},
   "source": [
    "- Perfumes & Fragrances adalah kategori dengan avg % unit sold tertinggi"
   ]
  },
  {
   "cell_type": "code",
   "execution_count": 25,
   "metadata": {},
   "outputs": [],
   "source": [
    "parfum = df[df['category'] == 'Perfumes & Fragrances']"
   ]
  },
  {
   "cell_type": "markdown",
   "metadata": {},
   "source": [
    "- Next kita cek jumlah parfum yang ada di dataset ini"
   ]
  },
  {
   "cell_type": "code",
   "execution_count": 54,
   "metadata": {},
   "outputs": [
    {
     "data": {
      "text/html": [
       "<div>\n",
       "<style scoped>\n",
       "    .dataframe tbody tr th:only-of-type {\n",
       "        vertical-align: middle;\n",
       "    }\n",
       "\n",
       "    .dataframe tbody tr th {\n",
       "        vertical-align: top;\n",
       "    }\n",
       "\n",
       "    .dataframe thead th {\n",
       "        text-align: right;\n",
       "    }\n",
       "</style>\n",
       "<table border=\"1\" class=\"dataframe\">\n",
       "  <thead>\n",
       "    <tr style=\"text-align: right;\">\n",
       "      <th></th>\n",
       "      <th>col_0</th>\n",
       "      <th>jumlah</th>\n",
       "    </tr>\n",
       "    <tr>\n",
       "      <th>category</th>\n",
       "      <th>gender</th>\n",
       "      <th></th>\n",
       "    </tr>\n",
       "  </thead>\n",
       "  <tbody>\n",
       "    <tr>\n",
       "      <th rowspan=\"3\" valign=\"top\">Perfumes &amp; Fragrances</th>\n",
       "      <th>Unisex</th>\n",
       "      <td>5</td>\n",
       "    </tr>\n",
       "    <tr>\n",
       "      <th>men</th>\n",
       "      <td>25</td>\n",
       "    </tr>\n",
       "    <tr>\n",
       "      <th>women</th>\n",
       "      <td>33</td>\n",
       "    </tr>\n",
       "  </tbody>\n",
       "</table>\n",
       "</div>"
      ],
      "text/plain": [
       "col_0                         jumlah\n",
       "category              gender        \n",
       "Perfumes & Fragrances Unisex       5\n",
       "                      men         25\n",
       "                      women       33"
      ]
     },
     "execution_count": 54,
     "metadata": {},
     "output_type": "execute_result"
    }
   ],
   "source": [
    "pd.crosstab(index=[parfum['category'], parfum['gender']], columns='jumlah')"
   ]
  },
  {
   "cell_type": "markdown",
   "metadata": {},
   "source": [
    "### 10 parfum dengan % unit sold tertinggi"
   ]
  },
  {
   "cell_type": "code",
   "execution_count": 41,
   "metadata": {},
   "outputs": [
    {
     "data": {
      "text/html": [
       "<div>\n",
       "<style scoped>\n",
       "    .dataframe tbody tr th:only-of-type {\n",
       "        vertical-align: middle;\n",
       "    }\n",
       "\n",
       "    .dataframe tbody tr th {\n",
       "        vertical-align: top;\n",
       "    }\n",
       "\n",
       "    .dataframe thead th {\n",
       "        text-align: right;\n",
       "    }\n",
       "</style>\n",
       "<table border=\"1\" class=\"dataframe\">\n",
       "  <thead>\n",
       "    <tr style=\"text-align: right;\">\n",
       "      <th></th>\n",
       "      <th></th>\n",
       "      <th></th>\n",
       "      <th></th>\n",
       "      <th>col_0</th>\n",
       "      <th>% barang terjual</th>\n",
       "    </tr>\n",
       "    <tr>\n",
       "      <th>category</th>\n",
       "      <th>product</th>\n",
       "      <th>gender</th>\n",
       "      <th>Original_price</th>\n",
       "      <th>price</th>\n",
       "      <th></th>\n",
       "    </tr>\n",
       "  </thead>\n",
       "  <tbody>\n",
       "    <tr>\n",
       "      <th rowspan=\"10\" valign=\"top\">Perfumes &amp; Fragrances</th>\n",
       "      <th>Mancera Roses Vanille for Unisex - Eau de Parfum, 120ml</th>\n",
       "      <th>Unisex</th>\n",
       "      <th>415.0</th>\n",
       "      <th>197.98</th>\n",
       "      <td>99.0</td>\n",
       "    </tr>\n",
       "    <tr>\n",
       "      <th>Burberry London for Women - Eau de Parfum, 100ml</th>\n",
       "      <th>women</th>\n",
       "      <th>252.0</th>\n",
       "      <th>127.97</th>\n",
       "      <td>98.0</td>\n",
       "    </tr>\n",
       "    <tr>\n",
       "      <th>Calvin Klein Euphoria Intense for Men - Eau de Toilette, 100ml</th>\n",
       "      <th>men</th>\n",
       "      <th>282.0</th>\n",
       "      <th>84.09</th>\n",
       "      <td>98.0</td>\n",
       "    </tr>\n",
       "    <tr>\n",
       "      <th>Eternity by Calvin Klein for Men - Eau de Toilette, 100ml</th>\n",
       "      <th>men</th>\n",
       "      <th>322.0</th>\n",
       "      <th>83.90</th>\n",
       "      <td>97.0</td>\n",
       "    </tr>\n",
       "    <tr>\n",
       "      <th>Calvin Klein Beauty for Women - Eau de Parfum, 100ml</th>\n",
       "      <th>women</th>\n",
       "      <th>357.0</th>\n",
       "      <th>84.98</th>\n",
       "      <td>97.0</td>\n",
       "    </tr>\n",
       "    <tr>\n",
       "      <th>Oud Sharqia for Unisex - Eau de Parfum, 80ml</th>\n",
       "      <th>Unisex</th>\n",
       "      <th>157.0</th>\n",
       "      <th>22.00</th>\n",
       "      <td>96.0</td>\n",
       "    </tr>\n",
       "    <tr>\n",
       "      <th>Nikos Sculpture Homme for Men - Eau de Toilette, 100ml</th>\n",
       "      <th>men</th>\n",
       "      <th>250.0</th>\n",
       "      <th>49.95</th>\n",
       "      <td>95.0</td>\n",
       "    </tr>\n",
       "    <tr>\n",
       "      <th>Davidoff The Game for Men - Eau de Toilette, 100ml</th>\n",
       "      <th>men</th>\n",
       "      <th>252.0</th>\n",
       "      <th>81.62</th>\n",
       "      <td>95.0</td>\n",
       "    </tr>\n",
       "    <tr>\n",
       "      <th>Davidoff Cool Water For Men - Eau de Toilette, 125ml</th>\n",
       "      <th>men</th>\n",
       "      <th>294.0</th>\n",
       "      <th>69.90</th>\n",
       "      <td>95.0</td>\n",
       "    </tr>\n",
       "    <tr>\n",
       "      <th>Jovan Musk for Women - Eau de Cologne, 59ml</th>\n",
       "      <th>women</th>\n",
       "      <th>42.0</th>\n",
       "      <th>21.40</th>\n",
       "      <td>93.0</td>\n",
       "    </tr>\n",
       "  </tbody>\n",
       "</table>\n",
       "</div>"
      ],
      "text/plain": [
       "col_0                                                                                                  % barang terjual\n",
       "category              product                                            gender Original_price price                   \n",
       "Perfumes & Fragrances Mancera Roses Vanille for Unisex - Eau de Parfu... Unisex 415.0          197.98              99.0\n",
       "                      Burberry London for Women - Eau de Parfum, 100ml   women  252.0          127.97              98.0\n",
       "                      Calvin Klein Euphoria Intense for Men - Eau de ... men    282.0          84.09               98.0\n",
       "                      Eternity by Calvin Klein for Men - Eau de Toile... men    322.0          83.90               97.0\n",
       "                      Calvin Klein Beauty for Women - Eau de Parfum, ... women  357.0          84.98               97.0\n",
       "                      Oud Sharqia for Unisex - Eau de Parfum, 80ml       Unisex 157.0          22.00               96.0\n",
       "                      Nikos Sculpture Homme for Men - Eau de Toilette... men    250.0          49.95               95.0\n",
       "                      Davidoff The Game for Men - Eau de Toilette, 100ml men    252.0          81.62               95.0\n",
       "                      Davidoff Cool Water For Men - Eau de Toilette, ... men    294.0          69.90               95.0\n",
       "                      Jovan Musk for Women - Eau de Cologne, 59ml        women  42.0           21.40               93.0"
      ]
     },
     "execution_count": 41,
     "metadata": {},
     "output_type": "execute_result"
    }
   ],
   "source": [
    "pd.crosstab(index=[parfum['category'], parfum['product'], parfum['gender'], parfum['Original_price'], parfum['price']], columns='% barang terjual', values=parfum['perc_of_unit_sold'], aggfunc='mean').sort_values('% barang terjual', ascending=False).head(10)"
   ]
  },
  {
   "cell_type": "markdown",
   "metadata": {},
   "source": [
    "- Parfum untuk unisex dengan % unit sold tertinggi adalah Mancera Roses Vanille 120ml\n",
    "- Parfum untuk wanita dengan % unit sold tertinggi adalah Burberry London 100ml\n",
    "- Parfum untuk pria dengan % unit sold tertinggi adalah Calvin Klein Euphoria Intense for Men 100ml\n",
    "- 5 dari 10 parfum dengan % unit sold tertinggi adalah parfum pria\n",
    "- Untuk brand, yang mendominasi adalah Calvin Klein dan Davidoff\n",
    "\n",
    "Next, coba kita gali korelasi antara 'Original_price', 'price', dan 'perc_of_unit_sold'"
   ]
  },
  {
   "cell_type": "code",
   "execution_count": 46,
   "metadata": {},
   "outputs": [
    {
     "data": {
      "image/png": "[encoded data removed]",
      "text/plain": [
       "<Figure size 432x288 with 1 Axes>"
      ]
     },
     "metadata": {
      "needs_background": "light"
     },
     "output_type": "display_data"
    }
   ],
   "source": [
    "plt.scatter(parfum['Original_price'], parfum['perc_of_unit_sold'], c='b')\n",
    "plt.xlabel('Original_price')\n",
    "plt.ylabel('% unit sold')\n",
    "plt.grid(True)\n",
    "plt.show()"
   ]
  },
  {
   "cell_type": "code",
   "execution_count": 47,
   "metadata": {},
   "outputs": [
    {
     "data": {
      "image/png": "[encoded data removed]",
      "text/plain": [
       "<Figure size 432x288 with 1 Axes>"
      ]
     },
     "metadata": {
      "needs_background": "light"
     },
     "output_type": "display_data"
    }
   ],
   "source": [
    "plt.scatter(parfum['price'], parfum['perc_of_unit_sold'], c='r')\n",
    "plt.xlabel('price')\n",
    "plt.ylabel('% unit sold')\n",
    "plt.grid(True)\n",
    "plt.show()"
   ]
  },
  {
   "cell_type": "code",
   "execution_count": 30,
   "metadata": {},
   "outputs": [
    {
     "data": {
      "text/html": [
       "<div>\n",
       "<style scoped>\n",
       "    .dataframe tbody tr th:only-of-type {\n",
       "        vertical-align: middle;\n",
       "    }\n",
       "\n",
       "    .dataframe tbody tr th {\n",
       "        vertical-align: top;\n",
       "    }\n",
       "\n",
       "    .dataframe thead th {\n",
       "        text-align: right;\n",
       "    }\n",
       "</style>\n",
       "<table border=\"1\" class=\"dataframe\">\n",
       "  <thead>\n",
       "    <tr style=\"text-align: right;\">\n",
       "      <th></th>\n",
       "      <th>Original_price</th>\n",
       "      <th>price</th>\n",
       "      <th>perc_of_unit_sold</th>\n",
       "      <th>rating</th>\n",
       "      <th>n_diskon</th>\n",
       "      <th>%_diskon</th>\n",
       "    </tr>\n",
       "  </thead>\n",
       "  <tbody>\n",
       "    <tr>\n",
       "      <th>Original_price</th>\n",
       "      <td>1.00</td>\n",
       "      <td>0.70</td>\n",
       "      <td>0.04</td>\n",
       "      <td>-0.11</td>\n",
       "      <td>0.99</td>\n",
       "      <td>0.28</td>\n",
       "    </tr>\n",
       "    <tr>\n",
       "      <th>price</th>\n",
       "      <td>0.70</td>\n",
       "      <td>1.00</td>\n",
       "      <td>-0.12</td>\n",
       "      <td>-0.03</td>\n",
       "      <td>0.60</td>\n",
       "      <td>-0.06</td>\n",
       "    </tr>\n",
       "    <tr>\n",
       "      <th>perc_of_unit_sold</th>\n",
       "      <td>0.04</td>\n",
       "      <td>-0.12</td>\n",
       "      <td>1.00</td>\n",
       "      <td>0.09</td>\n",
       "      <td>0.06</td>\n",
       "      <td>0.10</td>\n",
       "    </tr>\n",
       "    <tr>\n",
       "      <th>rating</th>\n",
       "      <td>-0.11</td>\n",
       "      <td>-0.03</td>\n",
       "      <td>0.09</td>\n",
       "      <td>1.00</td>\n",
       "      <td>-0.12</td>\n",
       "      <td>-0.16</td>\n",
       "    </tr>\n",
       "    <tr>\n",
       "      <th>n_diskon</th>\n",
       "      <td>0.99</td>\n",
       "      <td>0.60</td>\n",
       "      <td>0.06</td>\n",
       "      <td>-0.12</td>\n",
       "      <td>1.00</td>\n",
       "      <td>0.33</td>\n",
       "    </tr>\n",
       "    <tr>\n",
       "      <th>%_diskon</th>\n",
       "      <td>0.28</td>\n",
       "      <td>-0.06</td>\n",
       "      <td>0.10</td>\n",
       "      <td>-0.16</td>\n",
       "      <td>0.33</td>\n",
       "      <td>1.00</td>\n",
       "    </tr>\n",
       "  </tbody>\n",
       "</table>\n",
       "</div>"
      ],
      "text/plain": [
       "                   Original_price  price  perc_of_unit_sold  rating  n_diskon  \\\n",
       "Original_price               1.00   0.70               0.04   -0.11      0.99   \n",
       "price                        0.70   1.00              -0.12   -0.03      0.60   \n",
       "perc_of_unit_sold            0.04  -0.12               1.00    0.09      0.06   \n",
       "rating                      -0.11  -0.03               0.09    1.00     -0.12   \n",
       "n_diskon                     0.99   0.60               0.06   -0.12      1.00   \n",
       "%_diskon                     0.28  -0.06               0.10   -0.16      0.33   \n",
       "\n",
       "                   %_diskon  \n",
       "Original_price         0.28  \n",
       "price                 -0.06  \n",
       "perc_of_unit_sold      0.10  \n",
       "rating                -0.16  \n",
       "n_diskon               0.33  \n",
       "%_diskon               1.00  "
      ]
     },
     "execution_count": 30,
     "metadata": {},
     "output_type": "execute_result"
    }
   ],
   "source": [
    "df.corr().round(2)"
   ]
  },
  {
   "cell_type": "markdown",
   "metadata": {},
   "source": [
    "- Dari plot pertama menunjukkan korelasi positif yang sangat lemah antara 'Original_price' dan '% unit sold' sebesar 0.04\n",
    "- Dari plot kedua menunjukkan korelasi negatif yang lemah antara 'price' dan '% unit sold' sebesar -0.12\n",
    "- Dari plot ketiga menunjukkan korelasi positif yang sangat lemah antara 'rating' dan '% unit sold' 0.09"
   ]
  },
  {
   "cell_type": "markdown",
   "metadata": {},
   "source": [
    "### Average harga parfum based on gender"
   ]
  },
  {
   "cell_type": "code",
   "execution_count": 53,
   "metadata": {},
   "outputs": [
    {
     "data": {
      "text/html": [
       "<div>\n",
       "<style scoped>\n",
       "    .dataframe tbody tr th:only-of-type {\n",
       "        vertical-align: middle;\n",
       "    }\n",
       "\n",
       "    .dataframe tbody tr th {\n",
       "        vertical-align: top;\n",
       "    }\n",
       "\n",
       "    .dataframe thead th {\n",
       "        text-align: right;\n",
       "    }\n",
       "</style>\n",
       "<table border=\"1\" class=\"dataframe\">\n",
       "  <thead>\n",
       "    <tr style=\"text-align: right;\">\n",
       "      <th></th>\n",
       "      <th>col_0</th>\n",
       "      <th>avg price</th>\n",
       "    </tr>\n",
       "    <tr>\n",
       "      <th>category</th>\n",
       "      <th>gender</th>\n",
       "      <th></th>\n",
       "    </tr>\n",
       "  </thead>\n",
       "  <tbody>\n",
       "    <tr>\n",
       "      <th rowspan=\"3\" valign=\"top\">Perfumes &amp; Fragrances</th>\n",
       "      <th>Unisex</th>\n",
       "      <td>67.0</td>\n",
       "    </tr>\n",
       "    <tr>\n",
       "      <th>men</th>\n",
       "      <td>78.0</td>\n",
       "    </tr>\n",
       "    <tr>\n",
       "      <th>women</th>\n",
       "      <td>106.0</td>\n",
       "    </tr>\n",
       "  </tbody>\n",
       "</table>\n",
       "</div>"
      ],
      "text/plain": [
       "col_0                         avg price\n",
       "category              gender           \n",
       "Perfumes & Fragrances Unisex       67.0\n",
       "                      men          78.0\n",
       "                      women       106.0"
      ]
     },
     "execution_count": 53,
     "metadata": {},
     "output_type": "execute_result"
    }
   ],
   "source": [
    "pd.crosstab(index=[parfum['category'], parfum['gender']], columns='avg price', values=parfum['price'], aggfunc='mean').round()"
   ]
  },
  {
   "cell_type": "markdown",
   "metadata": {},
   "source": [
    "- Average price yang paling tinggi adalah parfum wanita\n",
    "- Average price yang paling rendah adalah parfum unisex"
   ]
  },
  {
   "cell_type": "markdown",
   "metadata": {},
   "source": [
    "### 10 Parfum dengan harga terendah"
   ]
  },
  {
   "cell_type": "code",
   "execution_count": 31,
   "metadata": {},
   "outputs": [
    {
     "data": {
      "text/html": [
       "<div>\n",
       "<style scoped>\n",
       "    .dataframe tbody tr th:only-of-type {\n",
       "        vertical-align: middle;\n",
       "    }\n",
       "\n",
       "    .dataframe tbody tr th {\n",
       "        vertical-align: top;\n",
       "    }\n",
       "\n",
       "    .dataframe thead th {\n",
       "        text-align: right;\n",
       "    }\n",
       "</style>\n",
       "<table border=\"1\" class=\"dataframe\">\n",
       "  <thead>\n",
       "    <tr style=\"text-align: right;\">\n",
       "      <th></th>\n",
       "      <th></th>\n",
       "      <th></th>\n",
       "      <th>col_0</th>\n",
       "      <th>harga min</th>\n",
       "    </tr>\n",
       "    <tr>\n",
       "      <th>category</th>\n",
       "      <th>product</th>\n",
       "      <th>gender</th>\n",
       "      <th>perc_of_unit_sold</th>\n",
       "      <th></th>\n",
       "    </tr>\n",
       "  </thead>\n",
       "  <tbody>\n",
       "    <tr>\n",
       "      <th rowspan=\"10\" valign=\"top\">Perfumes &amp; Fragrances</th>\n",
       "      <th>Jovan Musk for Women - Eau de Cologne, 59ml</th>\n",
       "      <th>women</th>\n",
       "      <th>93.0</th>\n",
       "      <td>42.0</td>\n",
       "    </tr>\n",
       "    <tr>\n",
       "      <th>Lattafa Pure Musk for Unisex - Eau de Parfum, 100ml</th>\n",
       "      <th>Unisex</th>\n",
       "      <th>64.0</th>\n",
       "      <td>55.0</td>\n",
       "    </tr>\n",
       "    <tr>\n",
       "      <th>Brown Orchid for Men - Eau de Parfum, 80ml</th>\n",
       "      <th>men</th>\n",
       "      <th>59.0</th>\n",
       "      <td>59.0</td>\n",
       "    </tr>\n",
       "    <tr>\n",
       "      <th>United Colors Of Benetton Hot Gold for Women - Eau de Toilette , 100ml</th>\n",
       "      <th>women</th>\n",
       "      <th>91.0</th>\n",
       "      <td>77.0</td>\n",
       "    </tr>\n",
       "    <tr>\n",
       "      <th>United Colors Of Benetton Hot for Women - Eau de Toilette, 100ml</th>\n",
       "      <th>women</th>\n",
       "      <th>67.0</th>\n",
       "      <td>79.0</td>\n",
       "    </tr>\n",
       "    <tr>\n",
       "      <th>Sheikh Al Shuyukh by Lattafa for Unisex - Eau de Parfum, 50ml</th>\n",
       "      <th>Unisex</th>\n",
       "      <th>70.0</th>\n",
       "      <td>95.0</td>\n",
       "    </tr>\n",
       "    <tr>\n",
       "      <th>Fantasy by Britney Spears for Women - Eau de Parfum, 100ml</th>\n",
       "      <th>women</th>\n",
       "      <th>48.0</th>\n",
       "      <td>125.0</td>\n",
       "    </tr>\n",
       "    <tr>\n",
       "      <th>Joop! Homme for Men - Eau de Toilette, 125ml</th>\n",
       "      <th>men</th>\n",
       "      <th>49.0</th>\n",
       "      <td>126.0</td>\n",
       "    </tr>\n",
       "    <tr>\n",
       "      <th>S.T.Dupont for Women - Eau de Parfum, 100ml</th>\n",
       "      <th>women</th>\n",
       "      <th>69.0</th>\n",
       "      <td>141.0</td>\n",
       "    </tr>\n",
       "    <tr>\n",
       "      <th>Guess by Marciano for Women - Eau de Parfum, 100ml</th>\n",
       "      <th>women</th>\n",
       "      <th>67.0</th>\n",
       "      <td>147.0</td>\n",
       "    </tr>\n",
       "  </tbody>\n",
       "</table>\n",
       "</div>"
      ],
      "text/plain": [
       "col_0                                                                                              harga min\n",
       "category              product                                            gender perc_of_unit_sold           \n",
       "Perfumes & Fragrances Jovan Musk for Women - Eau de Cologne, 59ml        women  93.0                    42.0\n",
       "                      Lattafa Pure Musk for Unisex - Eau de Parfum, 1... Unisex 64.0                    55.0\n",
       "                      Brown Orchid for Men - Eau de Parfum, 80ml         men    59.0                    59.0\n",
       "                      United Colors Of Benetton Hot Gold for Women - ... women  91.0                    77.0\n",
       "                      United Colors Of Benetton Hot for Women - Eau d... women  67.0                    79.0\n",
       "                      Sheikh Al Shuyukh by Lattafa for Unisex - Eau d... Unisex 70.0                    95.0\n",
       "                      Fantasy by Britney Spears for Women - Eau de Pa... women  48.0                   125.0\n",
       "                      Joop! Homme for Men - Eau de Toilette, 125ml       men    49.0                   126.0\n",
       "                      S.T.Dupont for Women - Eau de Parfum, 100ml        women  69.0                   141.0\n",
       "                      Guess by Marciano for Women - Eau de Parfum, 100ml women  67.0                   147.0"
      ]
     },
     "execution_count": 31,
     "metadata": {},
     "output_type": "execute_result"
    }
   ],
   "source": [
    "pd.crosstab(index=[parfum['category'], parfum['product'], parfum['gender'], parfum['perc_of_unit_sold']], columns='harga min', values=parfum['Original_price'], aggfunc='min').sort_values('harga min').head(10)"
   ]
  },
  {
   "cell_type": "markdown",
   "metadata": {},
   "source": [
    "- Parfum termurah untuk wanita adalah Jovan Musk Eau de Cologne 59ml\n",
    "- Parfum termurah untuk pria adalah Brown Orchid Eau de Parfum 80ml\n",
    "- Parfum termurah untuk unisex adalah Lattafa Pure Musk Eau de Parfum 100ml\n",
    "- 6 dari 10 parfum termurah adalah parfum untuk wanita\n",
    "- Dari 10 parfum ini, parfum dengan % unit sold tinggi adalah Jovan Musk for Women - Eau de Cologne, 59ml dan United Colors Of Benetton Hot Gold for Women - Eau de Toilette , 100ml dengan % di-atas 90%"
   ]
  },
  {
   "cell_type": "markdown",
   "metadata": {},
   "source": [
    "### 10 Parfum dengan harga tertinggi"
   ]
  },
  {
   "cell_type": "code",
   "execution_count": 32,
   "metadata": {},
   "outputs": [
    {
     "data": {
      "text/html": [
       "<div>\n",
       "<style scoped>\n",
       "    .dataframe tbody tr th:only-of-type {\n",
       "        vertical-align: middle;\n",
       "    }\n",
       "\n",
       "    .dataframe tbody tr th {\n",
       "        vertical-align: top;\n",
       "    }\n",
       "\n",
       "    .dataframe thead th {\n",
       "        text-align: right;\n",
       "    }\n",
       "</style>\n",
       "<table border=\"1\" class=\"dataframe\">\n",
       "  <thead>\n",
       "    <tr style=\"text-align: right;\">\n",
       "      <th></th>\n",
       "      <th></th>\n",
       "      <th></th>\n",
       "      <th>col_0</th>\n",
       "      <th>harga max</th>\n",
       "    </tr>\n",
       "    <tr>\n",
       "      <th>category</th>\n",
       "      <th>product</th>\n",
       "      <th>gender</th>\n",
       "      <th>perc_of_unit_sold</th>\n",
       "      <th></th>\n",
       "    </tr>\n",
       "  </thead>\n",
       "  <tbody>\n",
       "    <tr>\n",
       "      <th rowspan=\"10\" valign=\"top\">Perfumes &amp; Fragrances</th>\n",
       "      <th>Roberto Cavalli For Women - Eau de Parfum, 75ml</th>\n",
       "      <th>women</th>\n",
       "      <th>75.0</th>\n",
       "      <td>525.0</td>\n",
       "    </tr>\n",
       "    <tr>\n",
       "      <th>Roberto Cavalli Paradiso for Women - Eau de Parfum, 50ml</th>\n",
       "      <th>women</th>\n",
       "      <th>85.0</th>\n",
       "      <td>510.0</td>\n",
       "    </tr>\n",
       "    <tr>\n",
       "      <th>Fatale by Agent Provocateur for Women - Eau de Parfum, 50ml</th>\n",
       "      <th>women</th>\n",
       "      <th>22.0</th>\n",
       "      <td>499.0</td>\n",
       "    </tr>\n",
       "    <tr>\n",
       "      <th>Sheikh Al Shuyukh Luxe Edition For Men, Eau De Parfum, 100 ml</th>\n",
       "      <th>men</th>\n",
       "      <th>73.0</th>\n",
       "      <td>499.0</td>\n",
       "    </tr>\n",
       "    <tr>\n",
       "      <th>MONTALE Roses Musk for Women - Eau de Parfum, 100ml</th>\n",
       "      <th>women</th>\n",
       "      <th>80.0</th>\n",
       "      <td>439.0</td>\n",
       "    </tr>\n",
       "    <tr>\n",
       "      <th>Fendi Furiosa for Women - Eau de Parfum, 50ml</th>\n",
       "      <th>women</th>\n",
       "      <th>87.0</th>\n",
       "      <td>439.0</td>\n",
       "    </tr>\n",
       "    <tr>\n",
       "      <th>Mancera Roses Vanille for Unisex - Eau de Parfum, 120ml</th>\n",
       "      <th>Unisex</th>\n",
       "      <th>99.0</th>\n",
       "      <td>415.0</td>\n",
       "    </tr>\n",
       "    <tr>\n",
       "      <th>Brit Rhythm by Burberry for Men - Eau de Toilette, 50ml</th>\n",
       "      <th>men</th>\n",
       "      <th>34.0</th>\n",
       "      <td>399.0</td>\n",
       "    </tr>\n",
       "    <tr>\n",
       "      <th>Calvin Klein Ck One Shock for Men - Eau de Toilette, 200ml</th>\n",
       "      <th>men</th>\n",
       "      <th>74.0</th>\n",
       "      <td>394.0</td>\n",
       "    </tr>\n",
       "    <tr>\n",
       "      <th>Tommy Girl By Tommy Hilfiger For Women - Eau De Toilette, 100 ml</th>\n",
       "      <th>women</th>\n",
       "      <th>88.0</th>\n",
       "      <td>385.0</td>\n",
       "    </tr>\n",
       "  </tbody>\n",
       "</table>\n",
       "</div>"
      ],
      "text/plain": [
       "col_0                                                                                              harga max\n",
       "category              product                                            gender perc_of_unit_sold           \n",
       "Perfumes & Fragrances Roberto Cavalli For Women - Eau de Parfum, 75ml    women  75.0                   525.0\n",
       "                      Roberto Cavalli Paradiso for Women - Eau de Par... women  85.0                   510.0\n",
       "                      Fatale by Agent Provocateur for Women - Eau de ... women  22.0                   499.0\n",
       "                      Sheikh Al Shuyukh Luxe Edition For Men, Eau De ... men    73.0                   499.0\n",
       "                      MONTALE Roses Musk for Women - Eau de Parfum, 1... women  80.0                   439.0\n",
       "                      Fendi Furiosa for Women - Eau de Parfum, 50ml      women  87.0                   439.0\n",
       "                      Mancera Roses Vanille for Unisex - Eau de Parfu... Unisex 99.0                   415.0\n",
       "                      Brit Rhythm by Burberry for Men - Eau de Toilet... men    34.0                   399.0\n",
       "                      Calvin Klein Ck One Shock for Men - Eau de Toil... men    74.0                   394.0\n",
       "                      Tommy Girl By Tommy Hilfiger For Women - Eau De... women  88.0                   385.0"
      ]
     },
     "execution_count": 32,
     "metadata": {},
     "output_type": "execute_result"
    }
   ],
   "source": [
    "pd.crosstab(index=[parfum['category'], parfum['product'], parfum['gender'], parfum['perc_of_unit_sold']], columns='harga max', values=parfum['Original_price'], aggfunc='max').sort_values('harga max', ascending=False).head(10)"
   ]
  },
  {
   "cell_type": "markdown",
   "metadata": {},
   "source": [
    "- Parfum termahal untuk wanita adalah Roberto Cavalli - Eau de Parfum, 75ml\n",
    "- Parfum termahal untuk pria adalah Sheikh Al Shuyukh Luxe Edition, Eau De Parfum, 100 ml\n",
    "- Parfum termahal untuk unisex adalah Mancera Roses Vanille - Eau de Parfum, 120ml\n",
    "- 6 dari 10 parfum dengan harga tertinggi adalah parfum untuk wanita\n",
    "- Dari 10 parfum ini, parfum dengan % unit sold tertinggi adalah Mancera Roses Vanille for Unisex - Eau de Parfum, 120ml dengan % lebih dari 90%"
   ]
  },
  {
   "cell_type": "markdown",
   "metadata": {},
   "source": [
    "### 10 parfum dengan diskon terbesar"
   ]
  },
  {
   "cell_type": "code",
   "execution_count": 40,
   "metadata": {},
   "outputs": [
    {
     "data": {
      "text/html": [
       "<div>\n",
       "<style scoped>\n",
       "    .dataframe tbody tr th:only-of-type {\n",
       "        vertical-align: middle;\n",
       "    }\n",
       "\n",
       "    .dataframe tbody tr th {\n",
       "        vertical-align: top;\n",
       "    }\n",
       "\n",
       "    .dataframe thead th {\n",
       "        text-align: right;\n",
       "    }\n",
       "</style>\n",
       "<table border=\"1\" class=\"dataframe\">\n",
       "  <thead>\n",
       "    <tr style=\"text-align: right;\">\n",
       "      <th></th>\n",
       "      <th></th>\n",
       "      <th></th>\n",
       "      <th></th>\n",
       "      <th></th>\n",
       "      <th>col_0</th>\n",
       "      <th>%_diskon</th>\n",
       "    </tr>\n",
       "    <tr>\n",
       "      <th>category</th>\n",
       "      <th>product</th>\n",
       "      <th>gender</th>\n",
       "      <th>perc_of_unit_sold</th>\n",
       "      <th>Original_price</th>\n",
       "      <th>price</th>\n",
       "      <th></th>\n",
       "    </tr>\n",
       "  </thead>\n",
       "  <tbody>\n",
       "    <tr>\n",
       "      <th rowspan=\"10\" valign=\"top\">Perfumes &amp; Fragrances</th>\n",
       "      <th>Sheikh Al Shuyukh Luxe Edition For Men, Eau De Parfum, 100 ml</th>\n",
       "      <th>men</th>\n",
       "      <th>73.0</th>\n",
       "      <th>499.0</th>\n",
       "      <th>41.61</th>\n",
       "      <td>92.0</td>\n",
       "    </tr>\n",
       "    <tr>\n",
       "      <th>Fatale by Agent Provocateur for Women - Eau de Parfum, 50ml</th>\n",
       "      <th>women</th>\n",
       "      <th>22.0</th>\n",
       "      <th>499.0</th>\n",
       "      <th>69.59</th>\n",
       "      <td>86.0</td>\n",
       "    </tr>\n",
       "    <tr>\n",
       "      <th>Oud Sharqia for Unisex - Eau de Parfum, 80ml</th>\n",
       "      <th>Unisex</th>\n",
       "      <th>96.0</th>\n",
       "      <th>157.0</th>\n",
       "      <th>22.00</th>\n",
       "      <td>86.0</td>\n",
       "    </tr>\n",
       "    <tr>\n",
       "      <th>Roberto Cavalli Paradiso for Women - Eau de Parfum, 50ml</th>\n",
       "      <th>women</th>\n",
       "      <th>85.0</th>\n",
       "      <th>510.0</th>\n",
       "      <th>95.88</th>\n",
       "      <td>81.0</td>\n",
       "    </tr>\n",
       "    <tr>\n",
       "      <th>Davidoff Champion for Men - Eau de Toilette, 90ml</th>\n",
       "      <th>men</th>\n",
       "      <th>54.0</th>\n",
       "      <th>370.0</th>\n",
       "      <th>70.98</th>\n",
       "      <td>81.0</td>\n",
       "    </tr>\n",
       "    <tr>\n",
       "      <th>Nikos Sculpture Homme for Men - Eau de Toilette, 100ml</th>\n",
       "      <th>men</th>\n",
       "      <th>95.0</th>\n",
       "      <th>250.0</th>\n",
       "      <th>49.95</th>\n",
       "      <td>80.0</td>\n",
       "    </tr>\n",
       "    <tr>\n",
       "      <th>Roberto Cavalli For Women - Eau de Parfum, 75ml</th>\n",
       "      <th>women</th>\n",
       "      <th>75.0</th>\n",
       "      <th>525.0</th>\n",
       "      <th>105.22</th>\n",
       "      <td>80.0</td>\n",
       "    </tr>\n",
       "    <tr>\n",
       "      <th>Davidoff Hot Water for Men - Eau de Toilette, 110ml</th>\n",
       "      <th>men</th>\n",
       "      <th>79.0</th>\n",
       "      <th>294.0</th>\n",
       "      <th>61.79</th>\n",
       "      <td>79.0</td>\n",
       "    </tr>\n",
       "    <tr>\n",
       "      <th>Calvin Klein Ck One Shock for Men - Eau de Toilette, 200ml</th>\n",
       "      <th>men</th>\n",
       "      <th>74.0</th>\n",
       "      <th>394.0</th>\n",
       "      <th>81.98</th>\n",
       "      <td>79.0</td>\n",
       "    </tr>\n",
       "    <tr>\n",
       "      <th>Fendi Furiosa for Women - Eau de Parfum, 50ml</th>\n",
       "      <th>women</th>\n",
       "      <th>87.0</th>\n",
       "      <th>439.0</th>\n",
       "      <th>96.09</th>\n",
       "      <td>78.0</td>\n",
       "    </tr>\n",
       "  </tbody>\n",
       "</table>\n",
       "</div>"
      ],
      "text/plain": [
       "col_0                                                                                                                    %_diskon\n",
       "category              product                                            gender perc_of_unit_sold Original_price price           \n",
       "Perfumes & Fragrances Sheikh Al Shuyukh Luxe Edition For Men, Eau De ... men    73.0              499.0          41.61       92.0\n",
       "                      Fatale by Agent Provocateur for Women - Eau de ... women  22.0              499.0          69.59       86.0\n",
       "                      Oud Sharqia for Unisex - Eau de Parfum, 80ml       Unisex 96.0              157.0          22.00       86.0\n",
       "                      Roberto Cavalli Paradiso for Women - Eau de Par... women  85.0              510.0          95.88       81.0\n",
       "                      Davidoff Champion for Men - Eau de Toilette, 90ml  men    54.0              370.0          70.98       81.0\n",
       "                      Nikos Sculpture Homme for Men - Eau de Toilette... men    95.0              250.0          49.95       80.0\n",
       "                      Roberto Cavalli For Women - Eau de Parfum, 75ml    women  75.0              525.0          105.22      80.0\n",
       "                      Davidoff Hot Water for Men - Eau de Toilette, 1... men    79.0              294.0          61.79       79.0\n",
       "                      Calvin Klein Ck One Shock for Men - Eau de Toil... men    74.0              394.0          81.98       79.0\n",
       "                      Fendi Furiosa for Women - Eau de Parfum, 50ml      women  87.0              439.0          96.09       78.0"
      ]
     },
     "execution_count": 40,
     "metadata": {},
     "output_type": "execute_result"
    }
   ],
   "source": [
    "pd.crosstab(index=[parfum['category'], parfum['product'], parfum['gender'], parfum['perc_of_unit_sold'], parfum['Original_price'], parfum['price']], columns='%_diskon', values=parfum['%_diskon'], aggfunc='max').sort_values('%_diskon', ascending=False).head(10)"
   ]
  },
  {
   "cell_type": "markdown",
   "metadata": {},
   "source": [
    "- Parfum wanita dengan diskon terbesar adalah Fatale by Agent Provocateur - Eau de Parfum, 50ml\n",
    "- Parfum pria dengan diskon terbesar adalah heikh Al Shuyukh Luxe Edition - Eau De Parfum, 100 ml\n",
    "- Parfum unisex dengan diskon terbesar adalah Oud Sharqia - Eau de Parfum, 80ml\n",
    "- Diskon terbesar parfum tercatat 92%, ini sih hampir gratis, tapi memang harga aslinya mahal juga. Parfum tersebut termasuk kedalam 10 parfum dengan harga tertinggi"
   ]
  },
  {
   "cell_type": "code",
   "execution_count": 45,
   "metadata": {},
   "outputs": [
    {
     "data": {
      "image/png": "[encoded data removed]",
      "text/plain": [
       "<Figure size 432x288 with 1 Axes>"
      ]
     },
     "metadata": {
      "needs_background": "light"
     },
     "output_type": "display_data"
    }
   ],
   "source": [
    "plt.scatter(parfum['%_diskon'], parfum['perc_of_unit_sold'])\n",
    "plt.xlabel('%_diskon')\n",
    "plt.ylabel('%_unit_sold')\n",
    "plt.grid(True)\n",
    "plt.show()"
   ]
  },
  {
   "cell_type": "code",
   "execution_count": 44,
   "metadata": {},
   "outputs": [
    {
     "data": {
      "text/html": [
       "<div>\n",
       "<style scoped>\n",
       "    .dataframe tbody tr th:only-of-type {\n",
       "        vertical-align: middle;\n",
       "    }\n",
       "\n",
       "    .dataframe tbody tr th {\n",
       "        vertical-align: top;\n",
       "    }\n",
       "\n",
       "    .dataframe thead th {\n",
       "        text-align: right;\n",
       "    }\n",
       "</style>\n",
       "<table border=\"1\" class=\"dataframe\">\n",
       "  <thead>\n",
       "    <tr style=\"text-align: right;\">\n",
       "      <th></th>\n",
       "      <th>Original_price</th>\n",
       "      <th>price</th>\n",
       "      <th>perc_of_unit_sold</th>\n",
       "      <th>rating</th>\n",
       "      <th>n_diskon</th>\n",
       "      <th>%_diskon</th>\n",
       "    </tr>\n",
       "  </thead>\n",
       "  <tbody>\n",
       "    <tr>\n",
       "      <th>Original_price</th>\n",
       "      <td>1.00</td>\n",
       "      <td>0.70</td>\n",
       "      <td>0.04</td>\n",
       "      <td>-0.11</td>\n",
       "      <td>0.99</td>\n",
       "      <td>0.28</td>\n",
       "    </tr>\n",
       "    <tr>\n",
       "      <th>price</th>\n",
       "      <td>0.70</td>\n",
       "      <td>1.00</td>\n",
       "      <td>-0.12</td>\n",
       "      <td>-0.03</td>\n",
       "      <td>0.60</td>\n",
       "      <td>-0.06</td>\n",
       "    </tr>\n",
       "    <tr>\n",
       "      <th>perc_of_unit_sold</th>\n",
       "      <td>0.04</td>\n",
       "      <td>-0.12</td>\n",
       "      <td>1.00</td>\n",
       "      <td>0.09</td>\n",
       "      <td>0.06</td>\n",
       "      <td>0.10</td>\n",
       "    </tr>\n",
       "    <tr>\n",
       "      <th>rating</th>\n",
       "      <td>-0.11</td>\n",
       "      <td>-0.03</td>\n",
       "      <td>0.09</td>\n",
       "      <td>1.00</td>\n",
       "      <td>-0.12</td>\n",
       "      <td>-0.16</td>\n",
       "    </tr>\n",
       "    <tr>\n",
       "      <th>n_diskon</th>\n",
       "      <td>0.99</td>\n",
       "      <td>0.60</td>\n",
       "      <td>0.06</td>\n",
       "      <td>-0.12</td>\n",
       "      <td>1.00</td>\n",
       "      <td>0.33</td>\n",
       "    </tr>\n",
       "    <tr>\n",
       "      <th>%_diskon</th>\n",
       "      <td>0.28</td>\n",
       "      <td>-0.06</td>\n",
       "      <td>0.10</td>\n",
       "      <td>-0.16</td>\n",
       "      <td>0.33</td>\n",
       "      <td>1.00</td>\n",
       "    </tr>\n",
       "  </tbody>\n",
       "</table>\n",
       "</div>"
      ],
      "text/plain": [
       "                   Original_price  price  perc_of_unit_sold  rating  n_diskon  \\\n",
       "Original_price               1.00   0.70               0.04   -0.11      0.99   \n",
       "price                        0.70   1.00              -0.12   -0.03      0.60   \n",
       "perc_of_unit_sold            0.04  -0.12               1.00    0.09      0.06   \n",
       "rating                      -0.11  -0.03               0.09    1.00     -0.12   \n",
       "n_diskon                     0.99   0.60               0.06   -0.12      1.00   \n",
       "%_diskon                     0.28  -0.06               0.10   -0.16      0.33   \n",
       "\n",
       "                   %_diskon  \n",
       "Original_price         0.28  \n",
       "price                 -0.06  \n",
       "perc_of_unit_sold      0.10  \n",
       "rating                -0.16  \n",
       "n_diskon               0.33  \n",
       "%_diskon               1.00  "
      ]
     },
     "execution_count": 44,
     "metadata": {},
     "output_type": "execute_result"
    }
   ],
   "source": [
    "df.corr().round(2)"
   ]
  },
  {
   "cell_type": "markdown",
   "metadata": {},
   "source": [
    "- Ternyata ada korelasi antara %_diskon dan %_unit_sold sebesar 0.1, bukan korelasi yang kuat. Visualnya bisa dilihat di scatter plot, perfume dengan diskon >= 60% kebanyakan punya %_unit_sold di-atas 50%, hanya sedikit yang di-bawah 50%"
   ]
  },
  {
   "cell_type": "markdown",
   "metadata": {},
   "source": [
    "## Kesimpulan dan Rekomendasi\n",
    "\n",
    "1. Berdasarkan data, dari seluruh kategori, Perfumes & Fragrances merupakan barang yang paling laris, ditinjau dari rata-rata percentage unit sold nya\n",
    "2. Parfum dengan % unit sold tertinggi adalah Mancera Roses Vanille for Unisex - Eau de Parfum, 120ml\n",
    "3. Parfum dengan % unit sold tertinggi didominasi oleh parfum pria bermerek Calvin Klein dan Davidoff\n",
    "4. Jika seller tidak punya modal yang besar disarankan untuk menjual parfum Jovan Musk for Women - Eau de Cologne, 59ml dan United Colors Of Benetton Hot Gold for Women - Eau de Toilette , 100ml karena parfum-parfum tersebut mempunyai harga yang murah di-bawah 80 USD tetapi punya % unit sold yang tinggi di-atas 90%, sehingga bisa mendapatkan keuntungan maksimal dengan modal yang kecil\n",
    "5. Jika seller punya modal yang besar disarankan untuk menjual Mancera Roses Vanille for Unisex - Eau de Parfum, 120ml, Burberry London for Women - Eau de Parfum, 100ml, Calvin Klein Euphoria Intense for Men - Eau de Toilette, 100ml karena walaupun parfum-parfum tersebut punya harga yang tinggi tetapi % unit sold nya juga tinggidi-atas 95%"
   ]
  }
 ],
 "metadata": {
  "kernelspec": {
   "display_name": "Python 3",
   "language": "python",
   "name": "python3"
  },
  "language_info": {
   "codemirror_mode": {
    "name": "ipython",
    "version": 3
   },
   "file_extension": ".py",
   "mimetype": "text/x-python",
   "name": "python",
   "nbconvert_exporter": "python",
   "pygments_lexer": "ipython3",
   "version": "3.7.6"
  }
 },
 "nbformat": 4,
 "nbformat_minor": 4
}
